{
 "cells": [
  {
   "cell_type": "markdown",
   "metadata": {},
   "source": [
    "# Generator\n",
    "## Overview\n",
    "A class to help create time series, properties and portfolio files.\n",
    "## Prerequisites\n",
    "In order to use the Generator, the data must be supplied in a pandas DataFrame object and have the appropraite transformation done to it\n",
    "### Loading\n",
    "A CSV file containing the data can be loaded into DataFrame using the `read_csv()` method."
   ]
  },
  {
   "cell_type": "code",
   "execution_count": 5,
   "metadata": {},
   "outputs": [],
   "source": [
    "from os import path\n",
    "from pandas import read_csv\n",
    "\n",
    "# define directories\n",
    "_ROOT_DIR = \"C:\\\\GIT\\\\file-extractor\"\n",
    "_FILES_DIR = path.join(_ROOT_DIR, \"files\")\n",
    "_SOURCE_DIR = path.join(_FILES_DIR, \"source\")\n",
    "_TARGET_DIR = path.join(_FILES_DIR, \"target\")\n",
    "\n",
    "# define source file\n",
    "filename = \"cons20190110.csv\"\n",
    "file = path.join(_SOURCE_DIR, filename)\n",
    "\n",
    "# load data into dataframe\n",
    "df = read_csv(file)"
   ]
  },
  {
   "cell_type": "markdown",
   "metadata": {},
   "source": [
    "## Transformation\n",
    "Now the data has been loaded into a DataFrame, it can be manipulated to perform actions such as:\n",
    "* Remap Column Names\n",
    "* Add, Modify and Delete Rows/Columns"
   ]
  },
  {
   "cell_type": "code",
   "execution_count": 7,
   "metadata": {},
   "outputs": [],
   "source": [
    "# remap column names\n",
    "mapping = {\n",
    "    \"Identifier\": \"SYMBOL\",\n",
    "    \"Constituent\": \"DESC\",\n",
    "    \"Country Code\": \"COUNTRY2\",\n",
    "    \"ISO Code\": \"COUNTRY3\",\n",
    "    \"Exchange Code\": \"XCHANGE\",\n",
    "    \"Price\": \"PRICE\",\n",
    "    \"Shares in Issue\": \"SHARES\",\n",
    "    \"Weighting\": \"WEIGHT\",\n",
    "    # \"Industry\": \"\",\n",
    "    # \"Supersector\": \"\",\n",
    "    # \"Sector\": \"\",\n",
    "    # \"Subsector\": \"\",\n",
    "}\n",
    "df = df.rename(columns=mapping)\n",
    "\n",
    "# add date\n",
    "df[\"DATE\"] = \"20190110\"\n",
    "\n",
    "# create time series\n",
    "df[\"PR\"] = df[\"PRICE\"]\n",
    "df[\"SH\"] = df[\"SHARES\"]\n",
    "df[\"WE\"] = df[\"WEIGHT\"]"
   ]
  },
  {
   "cell_type": "markdown",
   "metadata": {},
   "source": [
    "## Usage\n",
    "Now the data has been loaded in a DataFrame and transformed into the desired output, it can be supplied to the Generator."
   ]
  },
  {
   "cell_type": "code",
   "execution_count": 9,
   "metadata": {},
   "outputs": [],
   "source": [
    "    # create time series\n",
    "    time_items = [\"PR\", \"SH\", \"WE\"]\n",
    "    time_filename = \"TIME.tsv\"\n",
    "    time_file = path.join(_TARGET_DIR, time_filename)\n",
    "    g.timeseries(time_file, items=time_items)from generator import Generator\n",
    "\n",
    "# instantiate generator\n",
    "g = Generator(df)"
   ]
  },
  {
   "cell_type": "markdown",
   "metadata": {},
   "source": [
    "### Time Series\n",
    "Output a time series file, supplying the output file and items arguments."
   ]
  },
  {
   "cell_type": "code",
   "execution_count": 11,
   "metadata": {},
   "outputs": [],
   "source": [
    "# create time series\n",
    "time_items = [\"PR\", \"SH\", \"WE\"]\n",
    "time_filename = \"TIME.tsv\"\n",
    "time_file = path.join(_TARGET_DIR, time_filename)\n",
    "g.timeseries(time_file, items=time_items)"
   ]
  },
  {
   "cell_type": "markdown",
   "metadata": {},
   "source": [
    "### Properties\n",
    "Output a properties file, supplying the output file and items arguments."
   ]
  },
  {
   "cell_type": "code",
   "execution_count": 12,
   "metadata": {},
   "outputs": [],
   "source": [
    "# create properties\n",
    "prop_items = [\"DESC\", \"SEDOL\", \"ISIN\", \"CUSIP\", \"COUNTRY2\", \"COUNTRY3\"]\n",
    "prop_filename = \"PROP.tsv\"\n",
    "prop_file = path.join(_TARGET_DIR, prop_filename)\n",
    "g.properties(prop_file, items=prop_items)"
   ]
  },
  {
   "cell_type": "markdown",
   "metadata": {},
   "source": [
    "### Portfolio\n",
    "Output a portfolio file, supplying the output file and items arguments (the latter being optional, otherwise output all items)."
   ]
  },
  {
   "cell_type": "code",
   "execution_count": 15,
   "metadata": {},
   "outputs": [],
   "source": [
    "# create portfolio\n",
    "port_columns = [\"SYMBOL\", \"DATE\", \"DESC\", \"SEDOL\", \"ISIN\", \"CUSIP\", \"COUNTRY2\", \"COUNTRY3\", \"PRICE\", \"SHARES\", \"WEIGHT\"]\n",
    "port_filename = \"PORT.tsv\"\n",
    "port_file = path.join(_TARGET_DIR, port_filename)\n",
    "g.portfolio(port_file, columns=port_columns)"
   ]
  }
 ],
 "metadata": {
  "kernelspec": {
   "display_name": "Python 3",
   "language": "python",
   "name": "python3"
  },
  "language_info": {
   "codemirror_mode": {
    "name": "ipython",
    "version": 3
   },
   "file_extension": ".py",
   "mimetype": "text/x-python",
   "name": "python",
   "nbconvert_exporter": "python",
   "pygments_lexer": "ipython3",
   "version": "3.7.1"
  }
 },
 "nbformat": 4,
 "nbformat_minor": 2
}
